{
  "nbformat": 4,
  "nbformat_minor": 0,
  "metadata": {
    "colab": {
      "name": "Lab 1",
      "provenance": [],
      "authorship_tag": "ABX9TyMelX1DC6QMNa87VZ5xPN1W",
      "include_colab_link": true
    },
    "kernelspec": {
      "name": "python3",
      "display_name": "Python 3"
    },
    "language_info": {
      "name": "python"
    }
  },
  "cells": [
    {
      "cell_type": "markdown",
      "metadata": {
        "id": "view-in-github",
        "colab_type": "text"
      },
      "source": [
        "<a href=\"https://colab.research.google.com/github/DirkTayab/CPEN-21A-CPE-1-1/blob/main/Lab1.ipynb\" target=\"_parent\"><img src=\"https://colab.research.google.com/assets/colab-badge.svg\" alt=\"Open In Colab\"/></a>"
      ]
    },
    {
      "cell_type": "markdown",
      "metadata": {
        "id": "L8eapZkPdi7x"
      },
      "source": [
        "##Laboratory 1"
      ]
    },
    {
      "cell_type": "code",
      "metadata": {
        "colab": {
          "base_uri": "https://localhost:8080/"
        },
        "id": "_mFKE9OWVrj6",
        "outputId": "d4e5d4c4-a3bf-4568-b9f8-6f853e484303"
      },
      "source": [
        "print(\"Welcome to Python Programming\")"
      ],
      "execution_count": 13,
      "outputs": [
        {
          "output_type": "stream",
          "name": "stdout",
          "text": [
            "Welcome to Python Programming\n"
          ]
        }
      ]
    },
    {
      "cell_type": "code",
      "metadata": {
        "colab": {
          "base_uri": "https://localhost:8080/"
        },
        "id": "SbVRhoU-aKlr",
        "outputId": "692802b0-8437-4ef9-8b10-9cf3277e9d8f"
      },
      "source": [
        "Name, Age = \"Dirk Tayab\", 18\n",
        "Address = \"Brgy. Inocencio, Trece Martires City, Cavite\"\n",
        "print(\"Name: \" + Name)\n",
        "print(\"Address: \" + Address)\n",
        "print(\"Age: \" + str(Age))"
      ],
      "execution_count": 14,
      "outputs": [
        {
          "output_type": "stream",
          "name": "stdout",
          "text": [
            "Name: Dirk Tayab\n",
            "Address: Brgy. Inocencio, Trece Martires City, Cavite\n",
            "Age: 18\n"
          ]
        }
      ]
    }
  ]
}