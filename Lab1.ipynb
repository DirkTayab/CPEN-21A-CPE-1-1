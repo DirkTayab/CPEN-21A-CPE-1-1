{
  "nbformat": 4,
  "nbformat_minor": 0,
  "metadata": {
    "colab": {
      "name": "Laboratory 1",
      "provenance": [],
      "authorship_tag": "ABX9TyMJPdz1eP0zyUxrSLFkm3fc",
      "include_colab_link": true
    },
    "kernelspec": {
      "name": "python3",
      "display_name": "Python 3"
    },
    "language_info": {
      "name": "python"
    }
  },
  "cells": [
    {
      "cell_type": "markdown",
      "metadata": {
        "id": "view-in-github",
        "colab_type": "text"
      },
      "source": [
        "<a href=\"https://colab.research.google.com/github/DirkTayab/CPEN-21A-CPE-1-1/blob/main/Lab1.ipynb\" target=\"_parent\"><img src=\"https://colab.research.google.com/assets/colab-badge.svg\" alt=\"Open In Colab\"/></a>"
      ]
    },
    {
      "cell_type": "code",
      "metadata": {
        "colab": {
          "base_uri": "https://localhost:8080/"
        },
        "id": "_mFKE9OWVrj6",
        "outputId": "a7ae40a2-34e7-4f16-fc8d-b1eb7e3a5140"
      },
      "source": [
        "print(\"Welcome to Python Programming\")"
      ],
      "execution_count": 1,
      "outputs": [
        {
          "output_type": "stream",
          "name": "stdout",
          "text": [
            "Welcome to Python Programming\n"
          ]
        }
      ]
    },
    {
      "cell_type": "code",
      "metadata": {
        "colab": {
          "base_uri": "https://localhost:8080/"
        },
        "id": "SbVRhoU-aKlr",
        "outputId": "f8cec6b1-1b13-4b16-aacf-e2cdcaf7bb3e"
      },
      "source": [
        "Name, Age = \"Dirk Tayab\", 18\n",
        "Address = \"Brgy. Inocencio, Trece Martires City, Cavite\"\n",
        "print(\"Name: \" + Name)\n",
        "print(\"Address: \" + Address)\n",
        "print(\"Age: \" + str(Age))"
      ],
      "execution_count": 12,
      "outputs": [
        {
          "output_type": "stream",
          "name": "stdout",
          "text": [
            "Name: Dirk Tayab\n",
            "Address: Brgy. Inocencio, Trece Martires City, Cavite\n",
            "Age: 18\n"
          ]
        }
      ]
    }
  ]
}