{
  "nbformat": 4,
  "nbformat_minor": 0,
  "metadata": {
    "colab": {
      "name": "Final Exam.ipynb",
      "provenance": [],
      "collapsed_sections": [],
      "authorship_tag": "ABX9TyOhMhHmre70vKLTS0onJX8K",
      "include_colab_link": true
    },
    "kernelspec": {
      "name": "python3",
      "display_name": "Python 3"
    },
    "language_info": {
      "name": "python"
    }
  },
  "cells": [
    {
      "cell_type": "markdown",
      "metadata": {
        "id": "view-in-github",
        "colab_type": "text"
      },
      "source": [
        "<a href=\"https://colab.research.google.com/github/DirkTayab/CPEN-21A-CPE-1-1/blob/main/Final_Exam.ipynb\" target=\"_parent\"><img src=\"https://colab.research.google.com/assets/colab-badge.svg\" alt=\"Open In Colab\"/></a>"
      ]
    },
    {
      "cell_type": "markdown",
      "source": [
        "#Final Exam"
      ],
      "metadata": {
        "id": "3CefnIAoTqMV"
      }
    },
    {
      "cell_type": "markdown",
      "source": [
        "###Problem Statement 1"
      ],
      "metadata": {
        "id": "9lEt1DUYTr0Y"
      }
    },
    {
      "cell_type": "code",
      "source": [
        "sum = 0\n",
        "n = [-5,-4,-3,-2,-1,0,1,2,3,4]\n",
        "for x in (n):\n",
        "  sum += x\n",
        "print(sum)"
      ],
      "metadata": {
        "colab": {
          "base_uri": "https://localhost:8080/"
        },
        "id": "wZIqQyOSTxWp",
        "outputId": "5a32ba1b-6fea-48cb-f8b5-0f09efbee825"
      },
      "execution_count": null,
      "outputs": [
        {
          "output_type": "stream",
          "name": "stdout",
          "text": [
            "-5\n"
          ]
        }
      ]
    },
    {
      "cell_type": "markdown",
      "source": [
        "###Problem Statement 2"
      ],
      "metadata": {
        "id": "55dgfRpDTxre"
      }
    },
    {
      "cell_type": "code",
      "source": [
        "n = [int(a) for a in input().split()] #Separate numbers with space\n",
        "while len(n) != 5:\n",
        "    print(\"Not Five numbers\")\n",
        "    n = [int(a) for a in input().split()]\n",
        "else:\n",
        "  print(\"Sum of First and Last Number= \", n[0]+n[-1])"
      ],
      "metadata": {
        "id": "RDSH6k4Dls0L"
      },
      "execution_count": null,
      "outputs": []
    },
    {
      "cell_type": "markdown",
      "source": [
        "###Problem Statement 3"
      ],
      "metadata": {
        "id": "x0Kalxs8T0YO"
      }
    },
    {
      "cell_type": "code",
      "source": [
        "grade = int(input(\"Grade: \"))\n",
        "if grade >= 90 and grade <= 100:\n",
        "  print(\"Grade: A\")\n",
        "elif grade >= 80 and grade <= 89:\n",
        "  print(\"Grade: B\")\n",
        "elif grade >= 70 and grade <= 79:\n",
        "  print(\"Grade: C\")\n",
        "elif grade >= 60 and grade <= 69:\n",
        "  print(\"Grade: D\")\n",
        "else:\n",
        "  print(\"Grade: F\")"
      ],
      "metadata": {
        "id": "_glBXmGeavOi"
      },
      "execution_count": null,
      "outputs": []
    }
  ]
}