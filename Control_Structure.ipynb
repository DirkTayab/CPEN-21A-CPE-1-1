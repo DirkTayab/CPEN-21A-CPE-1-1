{
  "nbformat": 4,
  "nbformat_minor": 0,
  "metadata": {
    "colab": {
      "name": "Control Structure.ipynb",
      "provenance": [],
      "authorship_tag": "ABX9TyOYxC4ubNy95iUZsVGx/hST",
      "include_colab_link": true
    },
    "kernelspec": {
      "name": "python3",
      "display_name": "Python 3"
    },
    "language_info": {
      "name": "python"
    }
  },
  "cells": [
    {
      "cell_type": "markdown",
      "metadata": {
        "id": "view-in-github",
        "colab_type": "text"
      },
      "source": [
        "<a href=\"https://colab.research.google.com/github/DirkTayab/CPEN-21A-CPE-1-1/blob/main/Control_Structure.ipynb\" target=\"_parent\"><img src=\"https://colab.research.google.com/assets/colab-badge.svg\" alt=\"Open In Colab\"/></a>"
      ]
    },
    {
      "cell_type": "markdown",
      "metadata": {
        "id": "KSH1eO_vmRIO"
      },
      "source": [
        "#####If Statement"
      ]
    },
    {
      "cell_type": "code",
      "metadata": {
        "colab": {
          "base_uri": "https://localhost:8080/"
        },
        "id": "nSq1nTQulZry",
        "outputId": "32c51d40-e542-4cf1-cb03-74d3be8c4884"
      },
      "source": [
        "a=6\n",
        "b=25\n",
        "if b > a:\n",
        "  print(\"b is greater than a\")"
      ],
      "execution_count": 1,
      "outputs": [
        {
          "output_type": "stream",
          "name": "stdout",
          "text": [
            "b is greater than a\n"
          ]
        }
      ]
    },
    {
      "cell_type": "markdown",
      "metadata": {
        "id": "CnL6dT1DoeQU"
      },
      "source": [
        "#####Elif Statemet"
      ]
    },
    {
      "cell_type": "code",
      "metadata": {
        "colab": {
          "base_uri": "https://localhost:8080/"
        },
        "id": "ojNAJJYUogdZ",
        "outputId": "4683ea12-ae2d-463b-f8d5-4957e4d12615"
      },
      "source": [
        "a=10\n",
        "b=10\n",
        "if b > a:\n",
        "  print(\"b is greater than a\")\n",
        "elif a == b:\n",
        "  print(\"a and b are equal\")"
      ],
      "execution_count": 2,
      "outputs": [
        {
          "output_type": "stream",
          "name": "stdout",
          "text": [
            "a and b are equal\n"
          ]
        }
      ]
    },
    {
      "cell_type": "markdown",
      "metadata": {
        "id": "VdbOvjCHpZEs"
      },
      "source": [
        "#####Else Statement"
      ]
    },
    {
      "cell_type": "code",
      "metadata": {
        "colab": {
          "base_uri": "https://localhost:8080/"
        },
        "id": "6Biqpd39pcXJ",
        "outputId": "5a77a501-ca51-4a50-f411-d780c89155f0"
      },
      "source": [
        "a=200\n",
        "b=10\n",
        "if b > a:\n",
        "  print(\"b is greater than a\")\n",
        "elif b == a:\n",
        "  print(\"b is equal to a\")\n",
        "else:\n",
        "  print(\"b is less than a\")"
      ],
      "execution_count": 5,
      "outputs": [
        {
          "output_type": "stream",
          "name": "stdout",
          "text": [
            "b is less than a\n"
          ]
        }
      ]
    },
    {
      "cell_type": "markdown",
      "metadata": {
        "id": "GCcc9QxAqXso"
      },
      "source": [
        "#####Short Hand If Statement"
      ]
    },
    {
      "cell_type": "code",
      "metadata": {
        "colab": {
          "base_uri": "https://localhost:8080/"
        },
        "id": "oOdza-JPqdTX",
        "outputId": "8a98a60b-c218-4e49-be8d-01e2928269e7"
      },
      "source": [
        "if a > b: print(\"a is greater than b\")"
      ],
      "execution_count": 8,
      "outputs": [
        {
          "output_type": "stream",
          "name": "stdout",
          "text": [
            "a is greater than b\n"
          ]
        }
      ]
    },
    {
      "cell_type": "markdown",
      "metadata": {
        "id": "ZEi4RaUGrJOH"
      },
      "source": [
        "#####Short Hand If Else Statement"
      ]
    },
    {
      "cell_type": "code",
      "metadata": {
        "colab": {
          "base_uri": "https://localhost:8080/"
        },
        "id": "mo2bVGY4rMaU",
        "outputId": "e5539f6e-7148-4e4d-e83f-64a60c5c2c66"
      },
      "source": [
        "print(\"a is greater than b\") if a > b else print(\"b is greater than a\")"
      ],
      "execution_count": 12,
      "outputs": [
        {
          "output_type": "stream",
          "name": "stdout",
          "text": [
            "a is greater than b\n"
          ]
        }
      ]
    },
    {
      "cell_type": "markdown",
      "metadata": {
        "id": "cBG3uKPLsACy"
      },
      "source": [
        "#####And-Both Conditions"
      ]
    },
    {
      "cell_type": "code",
      "metadata": {
        "colab": {
          "base_uri": "https://localhost:8080/"
        },
        "id": "Yge70vkNsD_q",
        "outputId": "9c3a3196-6972-47cb-f283-df0ce539c5d9"
      },
      "source": [
        "a=100\n",
        "b=50\n",
        "c=200\n",
        "if a > b and c > a:\n",
        "  print(\"Both conditions are True\")"
      ],
      "execution_count": 13,
      "outputs": [
        {
          "output_type": "stream",
          "name": "stdout",
          "text": [
            "Both conditions are True\n"
          ]
        }
      ]
    },
    {
      "cell_type": "code",
      "metadata": {
        "colab": {
          "base_uri": "https://localhost:8080/"
        },
        "id": "PzuCqEpbuSs9",
        "outputId": "b47185cf-d725-4ab4-f9d6-e25a2fb1ace8"
      },
      "source": [
        "##And Condition\n",
        "a=10\n",
        "b=25\n",
        "if b > a and a < b:\n",
        "  print(\"Both are True\")\n",
        "elif b < a and a > b:\n",
        "  print(\"a is greaten than b\")\n",
        "else:\n",
        "  print(\"null\")## both a and b are equal"
      ],
      "execution_count": 19,
      "outputs": [
        {
          "output_type": "stream",
          "name": "stdout",
          "text": [
            "null\n"
          ]
        }
      ]
    },
    {
      "cell_type": "code",
      "metadata": {
        "colab": {
          "base_uri": "https://localhost:8080/"
        },
        "id": "YTn9GdF2vVWe",
        "outputId": "13b0a63c-0526-498c-bac2-dccf635d80e8"
      },
      "source": [
        "##Or Condition\n",
        "if b < a or a == b:\n",
        "  print(\"True\")\n",
        "else:\n",
        "  print(\"False\")"
      ],
      "execution_count": 26,
      "outputs": [
        {
          "output_type": "stream",
          "name": "stdout",
          "text": [
            "True\n"
          ]
        }
      ]
    },
    {
      "cell_type": "markdown",
      "metadata": {
        "id": "zlnRl5pjwrZ_"
      },
      "source": [
        "#####Nesteed If"
      ]
    },
    {
      "cell_type": "code",
      "metadata": {
        "colab": {
          "base_uri": "https://localhost:8080/"
        },
        "id": "JGvHk6vvwtQJ",
        "outputId": "926f0aa7-649e-4e75-e225-6521d1a44f6a"
      },
      "source": [
        "x=20\n",
        "if x > 10:\n",
        "  print(\"Above 10\")\n",
        "  if x > 20:\n",
        "    print(\"and also above 20\")\n",
        "  else:\n",
        "    print(\"Not above 20\")\n",
        "else:\n",
        "  print(\"Less than 10\")"
      ],
      "execution_count": 37,
      "outputs": [
        {
          "output_type": "stream",
          "name": "stdout",
          "text": [
            "Above 10\n",
            "Not above 20\n"
          ]
        }
      ]
    },
    {
      "cell_type": "markdown",
      "metadata": {
        "id": "RGT3cZK7yJ3Y"
      },
      "source": [
        "#####Application (If else)"
      ]
    },
    {
      "cell_type": "code",
      "metadata": {
        "colab": {
          "base_uri": "https://localhost:8080/"
        },
        "id": "wcvORpbVyN3C",
        "outputId": "25087a63-b018-43f8-f0ec-fa8f13331938"
      },
      "source": [
        "age=int(input(\"Input Age: \"))\n",
        "if age >= 18:\n",
        "  print(\"Qualified\")\n",
        "else:\n",
        "  print(\"Unqualified\")"
      ],
      "execution_count": 47,
      "outputs": [
        {
          "output_type": "stream",
          "name": "stdout",
          "text": [
            "Input Age: 20\n",
            "Qualified\n"
          ]
        }
      ]
    },
    {
      "cell_type": "code",
      "metadata": {
        "colab": {
          "base_uri": "https://localhost:8080/"
        },
        "id": "gAp4Sya2zSGy",
        "outputId": "d5a06e60-5f25-4871-98ec-aa277edd7cda"
      },
      "source": [
        "number=int(input(\"Number: \"))\n",
        "if number == 0:\n",
        "  print(\"Zero\")\n",
        "elif number > 0:\n",
        "  print(\"Positive\")\n",
        "else:\n",
        "  print(\"Negative\")"
      ],
      "execution_count": 51,
      "outputs": [
        {
          "output_type": "stream",
          "name": "stdout",
          "text": [
            "Number: -1\n",
            "Negative\n"
          ]
        }
      ]
    },
    {
      "cell_type": "code",
      "metadata": {
        "colab": {
          "base_uri": "https://localhost:8080/"
        },
        "id": "H0Ll5B-50QtZ",
        "outputId": "497ad00a-bb74-4821-ecbd-575faf34fb7f"
      },
      "source": [
        "grade=int(input(\"Grade: \"))\n",
        "if grade == 74:\n",
        "  print(\"Remedial\")\n",
        "elif grade >= 75:\n",
        "  print(\"Passed\")\n",
        "else:\n",
        "  print(\"Failed\")"
      ],
      "execution_count": 56,
      "outputs": [
        {
          "output_type": "stream",
          "name": "stdout",
          "text": [
            "Grade: 75\n",
            "Passed\n"
          ]
        }
      ]
    }
  ]
}