{
  "nbformat": 4,
  "nbformat_minor": 0,
  "metadata": {
    "colab": {
      "name": "Expressions and Operations.ipynb",
      "provenance": [],
      "authorship_tag": "ABX9TyMeJBt1pqnfz65pIIsNyhI5",
      "include_colab_link": true
    },
    "kernelspec": {
      "name": "python3",
      "display_name": "Python 3"
    },
    "language_info": {
      "name": "python"
    }
  },
  "cells": [
    {
      "cell_type": "markdown",
      "metadata": {
        "id": "view-in-github",
        "colab_type": "text"
      },
      "source": [
        "<a href=\"https://colab.research.google.com/github/DirkTayab/CPEN-21A-CPE-1-1/blob/main/Expressions_and_Operations.ipynb\" target=\"_parent\"><img src=\"https://colab.research.google.com/assets/colab-badge.svg\" alt=\"Open In Colab\"/></a>"
      ]
    },
    {
      "cell_type": "markdown",
      "metadata": {
        "id": "bigX--EUtcLk"
      },
      "source": [
        "##Boolean"
      ]
    },
    {
      "cell_type": "code",
      "metadata": {
        "colab": {
          "base_uri": "https://localhost:8080/"
        },
        "id": "T01KUOHDuE4A",
        "outputId": "d06855d0-f475-41d5-e4d1-93667085a623"
      },
      "source": [
        "print(bool(a))\n",
        "print(bool(0))\n",
        "print(bool())\n",
        "print(bool([]))"
      ],
      "execution_count": 12,
      "outputs": [
        {
          "output_type": "stream",
          "name": "stdout",
          "text": [
            "True\n",
            "False\n",
            "False\n",
            "False\n"
          ]
        }
      ]
    },
    {
      "cell_type": "code",
      "metadata": {
        "colab": {
          "base_uri": "https://localhost:8080/"
        },
        "id": "W_iqBOjgvEmY",
        "outputId": "0b527f96-4dde-45a5-b20d-124a7a7315fe"
      },
      "source": [
        "def sampleFunction():\n",
        "  return True\n",
        "\n",
        "print(sampleFunction())"
      ],
      "execution_count": 14,
      "outputs": [
        {
          "output_type": "stream",
          "name": "stdout",
          "text": [
            "True\n"
          ]
        }
      ]
    },
    {
      "cell_type": "code",
      "metadata": {
        "colab": {
          "base_uri": "https://localhost:8080/"
        },
        "id": "aEr_SyTuvUy0",
        "outputId": "2fc5fe44-25fc-4450-a3f6-9d8469913452"
      },
      "source": [
        "def sampleFunction():\n",
        "  return True\n",
        "\n",
        "if sampleFunction():\n",
        "    print('y')\n",
        "else:\n",
        "    print('n')"
      ],
      "execution_count": 20,
      "outputs": [
        {
          "output_type": "stream",
          "name": "stdout",
          "text": [
            "y\n"
          ]
        }
      ]
    },
    {
      "cell_type": "code",
      "metadata": {
        "colab": {
          "base_uri": "https://localhost:8080/"
        },
        "id": "nMS16BvVvhTJ",
        "outputId": "e26b6ec0-7846-4882-a761-1719f25a69dd"
      },
      "source": [
        "def sampleFunction():\n",
        "  return False\n",
        "\n",
        "if sampleFunction():\n",
        "    print('y')\n",
        "else:\n",
        "    print('n')"
      ],
      "execution_count": 21,
      "outputs": [
        {
          "output_type": "stream",
          "name": "stdout",
          "text": [
            "n\n"
          ]
        }
      ]
    },
    {
      "cell_type": "code",
      "metadata": {
        "colab": {
          "base_uri": "https://localhost:8080/"
        },
        "id": "51seexVpixUB",
        "outputId": "4078e951-8904-4d42-9d99-841b2cf72a4b"
      },
      "source": [
        "a=6\n",
        "b=7\n",
        "print(a==b)\n",
        "print(a!=a)\n",
        "print(b==a)"
      ],
      "execution_count": 22,
      "outputs": [
        {
          "output_type": "stream",
          "name": "stdout",
          "text": [
            "False\n",
            "False\n",
            "False\n"
          ]
        }
      ]
    },
    {
      "cell_type": "code",
      "metadata": {
        "colab": {
          "base_uri": "https://localhost:8080/"
        },
        "id": "ayjlGsn3v4kz",
        "outputId": "6193eacb-0e39-4ce6-951d-f24ef0727a4a"
      },
      "source": [
        "print(1+6)\n",
        "print(60-50)\n",
        "print(10*8)\n",
        "print(20/2)\n",
        "print(50//2)\n",
        "print(25%4)\n",
        "print(2**4)"
      ],
      "execution_count": 23,
      "outputs": [
        {
          "output_type": "stream",
          "name": "stdout",
          "text": [
            "7\n",
            "10\n",
            "80\n",
            "10.0\n",
            "25\n",
            "1\n",
            "16\n"
          ]
        }
      ]
    },
    {
      "cell_type": "code",
      "metadata": {
        "colab": {
          "base_uri": "https://localhost:8080/"
        },
        "id": "6RjB6_pCwQL_",
        "outputId": "8570586d-9157-4921-c05d-9ac7c71d7fe9"
      },
      "source": [
        "a=5\n",
        "b=6\n",
        "a+=3\n",
        "b-=7\n",
        "print(a)\n",
        "print(b)"
      ],
      "execution_count": 27,
      "outputs": [
        {
          "output_type": "stream",
          "name": "stdout",
          "text": [
            "8\n",
            "-1\n"
          ]
        }
      ]
    }
  ]
}