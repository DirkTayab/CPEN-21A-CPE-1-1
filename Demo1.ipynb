{
  "nbformat": 4,
  "nbformat_minor": 0,
  "metadata": {
    "colab": {
      "name": "Demo1.ipynb",
      "provenance": [],
      "authorship_tag": "ABX9TyNdxPRUnWUNXEAipPXaxT+g",
      "include_colab_link": true
    },
    "kernelspec": {
      "name": "python3",
      "display_name": "Python 3"
    },
    "language_info": {
      "name": "python"
    }
  },
  "cells": [
    {
      "cell_type": "markdown",
      "metadata": {
        "id": "view-in-github",
        "colab_type": "text"
      },
      "source": [
        "<a href=\"https://colab.research.google.com/github/DirkTayab/CPEN-21A-CPE-1-1/blob/main/Demo1.ipynb\" target=\"_parent\"><img src=\"https://colab.research.google.com/assets/colab-badge.svg\" alt=\"Open In Colab\"/></a>"
      ]
    },
    {
      "cell_type": "markdown",
      "metadata": {
        "id": "JBj9M-6_k0yz"
      },
      "source": [
        "##Introduction to Programming"
      ]
    },
    {
      "cell_type": "code",
      "metadata": {
        "id": "pdIDyARaXUEy",
        "colab": {
          "base_uri": "https://localhost:8080/"
        },
        "outputId": "bb757c2f-b75a-469a-ed86-687b2bfc1dce"
      },
      "source": [
        "b=\"sally\"\n",
        "print(b)"
      ],
      "execution_count": 6,
      "outputs": [
        {
          "output_type": "stream",
          "name": "stdout",
          "text": [
            "sally\n"
          ]
        }
      ]
    },
    {
      "cell_type": "code",
      "metadata": {
        "colab": {
          "base_uri": "https://localhost:8080/"
        },
        "id": "6DPmeaWUjCJH",
        "outputId": "3944c2ae-445e-4ce7-e72d-eed550d274c2"
      },
      "source": [
        "print(type(b))  #print type"
      ],
      "execution_count": 7,
      "outputs": [
        {
          "output_type": "stream",
          "name": "stdout",
          "text": [
            "<class 'str'>\n"
          ]
        }
      ]
    },
    {
      "cell_type": "code",
      "metadata": {
        "colab": {
          "base_uri": "https://localhost:8080/"
        },
        "id": "Bw6bJU9FilFY",
        "outputId": "fa5b5314-df9b-4bdf-d55b-1355afc0750b"
      },
      "source": [
        "a, b, c = 0, 1, 2\n",
        "print(a)\n",
        "print(b)\n",
        "print(c)"
      ],
      "execution_count": 4,
      "outputs": [
        {
          "output_type": "stream",
          "name": "stdout",
          "text": [
            "0\n",
            "1\n",
            "2\n"
          ]
        }
      ]
    },
    {
      "cell_type": "code",
      "metadata": {
        "colab": {
          "base_uri": "https://localhost:8080/"
        },
        "id": "VWmDxQChj4b8",
        "outputId": "0dbd6d6f-04bb-4b83-e4d8-d1855b7da405"
      },
      "source": [
        "a, b=15, 10           #integers\n",
        "print(a+b)\n",
        "print(a-b)\n",
        "print(type(a+b))"
      ],
      "execution_count": 15,
      "outputs": [
        {
          "output_type": "stream",
          "name": "stdout",
          "text": [
            "25\n",
            "5\n",
            "<class 'int'>\n"
          ]
        }
      ]
    },
    {
      "cell_type": "code",
      "metadata": {
        "colab": {
          "base_uri": "https://localhost:8080/"
        },
        "id": "_W5Nz5gFjM0W",
        "outputId": "901283f7-6482-4d83-b925-2c4b134567a7"
      },
      "source": [
        "x, y, z = 4, 3, 2\n",
        "x==z or y<=x"
      ],
      "execution_count": 12,
      "outputs": [
        {
          "output_type": "execute_result",
          "data": {
            "text/plain": [
              "True"
            ]
          },
          "metadata": {},
          "execution_count": 12
        }
      ]
    },
    {
      "cell_type": "code",
      "metadata": {
        "colab": {
          "base_uri": "https://localhost:8080/"
        },
        "id": "1VLM5SeCjVBx",
        "outputId": "43cc5c38-fa17-4cc2-e3b2-bc9bd269390a"
      },
      "source": [
        "a = 25                 #float\n",
        "print(float(a))"
      ],
      "execution_count": 10,
      "outputs": [
        {
          "output_type": "stream",
          "name": "stdout",
          "text": [
            "25.0\n"
          ]
        }
      ]
    }
  ]
}