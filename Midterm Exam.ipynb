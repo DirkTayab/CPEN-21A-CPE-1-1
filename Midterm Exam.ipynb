{
  "nbformat": 4,
  "nbformat_minor": 0,
  "metadata": {
    "colab": {
      "name": "Midterm Exam.ipynb",
      "provenance": [],
      "authorship_tag": "ABX9TyMpdrvZt8pOUwKGo2olRjE+",
      "include_colab_link": true
    },
    "kernelspec": {
      "name": "python3",
      "display_name": "Python 3"
    },
    "language_info": {
      "name": "python"
    }
  },
  "cells": [
    {
      "cell_type": "markdown",
      "metadata": {
        "id": "view-in-github",
        "colab_type": "text"
      },
      "source": [
        "<a href=\"https://colab.research.google.com/github/DirkTayab/CPEN-21A-CPE-1-1/blob/main/Midterm%20Exam.ipynb\" target=\"_parent\"><img src=\"https://colab.research.google.com/assets/colab-badge.svg\" alt=\"Open In Colab\"/></a>"
      ]
    },
    {
      "cell_type": "markdown",
      "metadata": {
        "id": "DU5j4xMMhxIq"
      },
      "source": [
        "##Midterm Exam"
      ]
    },
    {
      "cell_type": "markdown",
      "metadata": {
        "id": "WWZMq2a7jiqP"
      },
      "source": [
        "#####PROBLEM STATEMENT 1"
      ]
    },
    {
      "cell_type": "code",
      "metadata": {
        "colab": {
          "base_uri": "https://localhost:8080/"
        },
        "id": "qW_ZwxMPh0pL",
        "outputId": "3b956302-f80a-459c-92c8-932a2742d5ef"
      },
      "source": [
        "name=\"Dirk Tayab\"\n",
        "s_number=202102048\n",
        "age=18\n",
        "birthday=\"12/29/2002\"\n",
        "address=\"Blk 36 Lot 33 Kentucky Street, Sampaguita Village, Brgy. Inocencio, Trece Martires City, Cavite\"\n",
        "course=\"BS Computer Engineering\"\n",
        "ls_gwa=\"n/a\" ##shs gwa\n",
        "print(name)\n",
        "print(s_number)\n",
        "print(age)\n",
        "print(birthday)\n",
        "print(address)\n",
        "print(course)\n",
        "print(ls_gwa)"
      ],
      "execution_count": 41,
      "outputs": [
        {
          "output_type": "stream",
          "name": "stdout",
          "text": [
            "Dirk Tayab\n",
            "202102048\n",
            "18\n",
            "12/29/2002\n",
            "Blk 36 Lot 33 Kentucky Street, Sampaguita Village, Brgy. Inocencio, Trece Martires City, Cavite\n",
            "BS Computer Engineering\n",
            "92.86\n"
          ]
        }
      ]
    },
    {
      "cell_type": "markdown",
      "metadata": {
        "id": "dCH_3ABejpe8"
      },
      "source": [
        "#####PROBLEM STATEMENT 2"
      ]
    },
    {
      "cell_type": "code",
      "metadata": {
        "colab": {
          "base_uri": "https://localhost:8080/"
        },
        "id": "HzaIAQKij0c_",
        "outputId": "47f748da-4d63-4bd4-aadb-e57942796ccb"
      },
      "source": [
        "n=4\n",
        "answ=\"Y\"\n",
        "print(2>n and n<6)\n",
        "print(2<n or n==6)\n",
        "print(not(2<n or n==6))\n",
        "print(not(n<6))\n",
        "print(answ==\"Y\" or answ==\"y\")\n",
        "print(answ==\"Y\" and answ==\"y\")\n",
        "print(not(answ==\"y\"))\n",
        "print((2<n and n==5+1)or answ==\"No\")\n",
        "print((n==2 and n==7)or answ==\"Y\")\n",
        "print(n==2 and (n==7 or answ==\"Y\"))"
      ],
      "execution_count": 34,
      "outputs": [
        {
          "output_type": "stream",
          "name": "stdout",
          "text": [
            "False\n",
            "True\n",
            "False\n",
            "False\n",
            "True\n",
            "False\n",
            "True\n",
            "False\n",
            "True\n",
            "False\n"
          ]
        }
      ]
    },
    {
      "cell_type": "markdown",
      "metadata": {
        "id": "4FN1U9ipnOu5"
      },
      "source": [
        "#####PROBLEM STATEMENT 3"
      ]
    },
    {
      "cell_type": "code",
      "metadata": {
        "colab": {
          "base_uri": "https://localhost:8080/"
        },
        "id": "eYwtIiBFnTA1",
        "outputId": "b9349a97-df0b-4257-df66-e52f9a85fb71"
      },
      "source": [
        "x,y,w,z=2,-3,7,-10\n",
        "\n",
        "print(x/y)\n",
        "print(w/y/x)\n",
        "print(z/y%x)\n",
        "print(x%-y*w)\n",
        "print(x%y)\n",
        "print(z%w-y/x*5+5)\n",
        "print(9-x%(2+y))\n",
        "print(z//w)\n",
        "print((2+y)**2)\n",
        "print(w/x*2)"
      ],
      "execution_count": 40,
      "outputs": [
        {
          "output_type": "stream",
          "name": "stdout",
          "text": [
            "-0.6666666666666666\n",
            "-1.1666666666666667\n",
            "1.3333333333333335\n",
            "14\n",
            "-1\n",
            "16.5\n",
            "9\n",
            "-2\n",
            "1\n",
            "7.0\n"
          ]
        }
      ]
    }
  ]
}
